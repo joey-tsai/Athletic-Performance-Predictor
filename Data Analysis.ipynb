{
 "cells": [
  {
   "cell_type": "code",
   "execution_count": 44,
   "metadata": {},
   "outputs": [],
   "source": [
    "# import libraries\n",
    "import pandas as pd"
   ]
  },
  {
   "cell_type": "code",
   "execution_count": 45,
   "metadata": {},
   "outputs": [
    {
     "name": "stdout",
     "output_type": "stream",
     "text": [
      "There are 18003 rows and 5 columns.\n"
     ]
    }
   ],
   "source": [
    "# load data\n",
    "df = pd.read_csv('performance_data.csv')\n",
    "\n",
    "#inspect the dimensons\n",
    "print('There are {} rows and {} columns.'.format(df.shape[0], df.shape[1]))"
   ]
  },
  {
   "cell_type": "code",
   "execution_count": 46,
   "metadata": {},
   "outputs": [
    {
     "data": {
      "text/html": [
       "<div>\n",
       "<style scoped>\n",
       "    .dataframe tbody tr th:only-of-type {\n",
       "        vertical-align: middle;\n",
       "    }\n",
       "\n",
       "    .dataframe tbody tr th {\n",
       "        vertical-align: top;\n",
       "    }\n",
       "\n",
       "    .dataframe thead th {\n",
       "        text-align: right;\n",
       "    }\n",
       "</style>\n",
       "<table border=\"1\" class=\"dataframe\">\n",
       "  <thead>\n",
       "    <tr style=\"text-align: right;\">\n",
       "      <th></th>\n",
       "      <th>Event Name</th>\n",
       "      <th>Athlete Name</th>\n",
       "      <th>Team</th>\n",
       "      <th>Mark</th>\n",
       "      <th>Event Type</th>\n",
       "    </tr>\n",
       "  </thead>\n",
       "  <tbody>\n",
       "    <tr>\n",
       "      <th>17983</th>\n",
       "      <td>200</td>\n",
       "      <td>Egizio, Jake</td>\n",
       "      <td>PSU-Behrend (M)</td>\n",
       "      <td>22.40</td>\n",
       "      <td>Individual</td>\n",
       "    </tr>\n",
       "    <tr>\n",
       "      <th>17984</th>\n",
       "      <td>300</td>\n",
       "      <td>Luce, Brendan</td>\n",
       "      <td>PSU-Behrend (M)</td>\n",
       "      <td>38.12</td>\n",
       "      <td>Individual</td>\n",
       "    </tr>\n",
       "    <tr>\n",
       "      <th>17985</th>\n",
       "      <td>400</td>\n",
       "      <td>Egizio, Jake</td>\n",
       "      <td>PSU-Behrend (M)</td>\n",
       "      <td>50.08</td>\n",
       "      <td>Individual</td>\n",
       "    </tr>\n",
       "    <tr>\n",
       "      <th>17986</th>\n",
       "      <td>500</td>\n",
       "      <td>Klein, Kody</td>\n",
       "      <td>PSU-Behrend (M)</td>\n",
       "      <td>1:09.35</td>\n",
       "      <td>Individual</td>\n",
       "    </tr>\n",
       "    <tr>\n",
       "      <th>17987</th>\n",
       "      <td>600</td>\n",
       "      <td>Elgin, Joe</td>\n",
       "      <td>PSU-Behrend (M)</td>\n",
       "      <td>1:32.19</td>\n",
       "      <td>Individual</td>\n",
       "    </tr>\n",
       "    <tr>\n",
       "      <th>17988</th>\n",
       "      <td>800</td>\n",
       "      <td>Klein, Kody</td>\n",
       "      <td>PSU-Behrend (M)</td>\n",
       "      <td>1:57.25</td>\n",
       "      <td>Individual</td>\n",
       "    </tr>\n",
       "    <tr>\n",
       "      <th>17989</th>\n",
       "      <td>1000</td>\n",
       "      <td>Seevers, Jason</td>\n",
       "      <td>PSU-Behrend (M)</td>\n",
       "      <td>2:44.47</td>\n",
       "      <td>Individual</td>\n",
       "    </tr>\n",
       "    <tr>\n",
       "      <th>17990</th>\n",
       "      <td>Mile</td>\n",
       "      <td>Klein, Kody</td>\n",
       "      <td>PSU-Behrend (M)</td>\n",
       "      <td>4:23.11</td>\n",
       "      <td>Individual</td>\n",
       "    </tr>\n",
       "    <tr>\n",
       "      <th>17991</th>\n",
       "      <td>3000</td>\n",
       "      <td>Klein, Kody</td>\n",
       "      <td>PSU-Behrend (M)</td>\n",
       "      <td>9:05.67</td>\n",
       "      <td>Individual</td>\n",
       "    </tr>\n",
       "    <tr>\n",
       "      <th>17992</th>\n",
       "      <td>5000</td>\n",
       "      <td>Kerr, Bennett</td>\n",
       "      <td>PSU-Behrend (M)</td>\n",
       "      <td>15:58.57</td>\n",
       "      <td>Individual</td>\n",
       "    </tr>\n",
       "    <tr>\n",
       "      <th>17993</th>\n",
       "      <td>60H</td>\n",
       "      <td>Florence, Odis</td>\n",
       "      <td>PSU-Behrend (M)</td>\n",
       "      <td>8.63</td>\n",
       "      <td>Individual</td>\n",
       "    </tr>\n",
       "    <tr>\n",
       "      <th>17994</th>\n",
       "      <td>4x200</td>\n",
       "      <td>Brandon Konieczki, Jake Egizio, Dominic Marino...</td>\n",
       "      <td>PSU-Behrend (M)</td>\n",
       "      <td>1:33.71</td>\n",
       "      <td>Relay</td>\n",
       "    </tr>\n",
       "    <tr>\n",
       "      <th>17995</th>\n",
       "      <td>4x400</td>\n",
       "      <td>Brendan Luce, Jake Walden, Kody Klein, Jake Eg...</td>\n",
       "      <td>PSU-Behrend (M)</td>\n",
       "      <td>3:23.85</td>\n",
       "      <td>Relay</td>\n",
       "    </tr>\n",
       "    <tr>\n",
       "      <th>17996</th>\n",
       "      <td>DMR</td>\n",
       "      <td>Aidan Domencic, Jake Walden, Jason Seevers, Ko...</td>\n",
       "      <td>PSU-Behrend (M)</td>\n",
       "      <td>10:20.22</td>\n",
       "      <td>Relay</td>\n",
       "    </tr>\n",
       "    <tr>\n",
       "      <th>17997</th>\n",
       "      <td>HJ</td>\n",
       "      <td>Hetrick, Samuel</td>\n",
       "      <td>PSU-Behrend (M)</td>\n",
       "      <td>2.02m</td>\n",
       "      <td>Individual</td>\n",
       "    </tr>\n",
       "    <tr>\n",
       "      <th>17998</th>\n",
       "      <td>PV</td>\n",
       "      <td>Festa, Ryan</td>\n",
       "      <td>PSU-Behrend (M)</td>\n",
       "      <td>4.65m</td>\n",
       "      <td>Individual</td>\n",
       "    </tr>\n",
       "    <tr>\n",
       "      <th>17999</th>\n",
       "      <td>LJ</td>\n",
       "      <td>Konieczki, Brandon</td>\n",
       "      <td>PSU-Behrend (M)</td>\n",
       "      <td>6.69m</td>\n",
       "      <td>Individual</td>\n",
       "    </tr>\n",
       "    <tr>\n",
       "      <th>18000</th>\n",
       "      <td>TJ</td>\n",
       "      <td>Laslavic, Matt</td>\n",
       "      <td>PSU-Behrend (M)</td>\n",
       "      <td>12.61m</td>\n",
       "      <td>Individual</td>\n",
       "    </tr>\n",
       "    <tr>\n",
       "      <th>18001</th>\n",
       "      <td>SP</td>\n",
       "      <td>Cotton, Alex</td>\n",
       "      <td>PSU-Behrend (M)</td>\n",
       "      <td>15.46m</td>\n",
       "      <td>Individual</td>\n",
       "    </tr>\n",
       "    <tr>\n",
       "      <th>18002</th>\n",
       "      <td>WT</td>\n",
       "      <td>Rohl, Max</td>\n",
       "      <td>PSU-Behrend (M)</td>\n",
       "      <td>14.36m</td>\n",
       "      <td>Individual</td>\n",
       "    </tr>\n",
       "  </tbody>\n",
       "</table>\n",
       "</div>"
      ],
      "text/plain": [
       "      Event Name                                       Athlete Name  \\\n",
       "17983        200                                       Egizio, Jake   \n",
       "17984        300                                      Luce, Brendan   \n",
       "17985        400                                       Egizio, Jake   \n",
       "17986        500                                        Klein, Kody   \n",
       "17987        600                                         Elgin, Joe   \n",
       "17988        800                                        Klein, Kody   \n",
       "17989       1000                                     Seevers, Jason   \n",
       "17990       Mile                                        Klein, Kody   \n",
       "17991       3000                                        Klein, Kody   \n",
       "17992       5000                                      Kerr, Bennett   \n",
       "17993        60H                                     Florence, Odis   \n",
       "17994      4x200  Brandon Konieczki, Jake Egizio, Dominic Marino...   \n",
       "17995      4x400  Brendan Luce, Jake Walden, Kody Klein, Jake Eg...   \n",
       "17996        DMR  Aidan Domencic, Jake Walden, Jason Seevers, Ko...   \n",
       "17997         HJ                                    Hetrick, Samuel   \n",
       "17998         PV                                        Festa, Ryan   \n",
       "17999         LJ                                 Konieczki, Brandon   \n",
       "18000         TJ                                     Laslavic, Matt   \n",
       "18001         SP                                       Cotton, Alex   \n",
       "18002         WT                                          Rohl, Max   \n",
       "\n",
       "                  Team      Mark  Event Type  \n",
       "17983  PSU-Behrend (M)     22.40  Individual  \n",
       "17984  PSU-Behrend (M)     38.12  Individual  \n",
       "17985  PSU-Behrend (M)     50.08  Individual  \n",
       "17986  PSU-Behrend (M)   1:09.35  Individual  \n",
       "17987  PSU-Behrend (M)   1:32.19  Individual  \n",
       "17988  PSU-Behrend (M)   1:57.25  Individual  \n",
       "17989  PSU-Behrend (M)   2:44.47  Individual  \n",
       "17990  PSU-Behrend (M)   4:23.11  Individual  \n",
       "17991  PSU-Behrend (M)   9:05.67  Individual  \n",
       "17992  PSU-Behrend (M)  15:58.57  Individual  \n",
       "17993  PSU-Behrend (M)      8.63  Individual  \n",
       "17994  PSU-Behrend (M)   1:33.71       Relay  \n",
       "17995  PSU-Behrend (M)   3:23.85       Relay  \n",
       "17996  PSU-Behrend (M)  10:20.22       Relay  \n",
       "17997  PSU-Behrend (M)     2.02m  Individual  \n",
       "17998  PSU-Behrend (M)     4.65m  Individual  \n",
       "17999  PSU-Behrend (M)     6.69m  Individual  \n",
       "18000  PSU-Behrend (M)    12.61m  Individual  \n",
       "18001  PSU-Behrend (M)    15.46m  Individual  \n",
       "18002  PSU-Behrend (M)    14.36m  Individual  "
      ]
     },
     "execution_count": 46,
     "metadata": {},
     "output_type": "execute_result"
    }
   ],
   "source": [
    "# view samples of the data\n",
    "df.tail(20)"
   ]
  },
  {
   "cell_type": "code",
   "execution_count": 47,
   "metadata": {},
   "outputs": [],
   "source": [
    "# add column for gender (based on gender in team column)\n",
    "df['Gender'] = df['Team'].str[-3:]"
   ]
  },
  {
   "cell_type": "code",
   "execution_count": 48,
   "metadata": {},
   "outputs": [
    {
     "name": "stdout",
     "output_type": "stream",
     "text": [
      "<class 'pandas.core.frame.DataFrame'>\n",
      "RangeIndex: 18003 entries, 0 to 18002\n",
      "Data columns (total 6 columns):\n",
      " #   Column        Non-Null Count  Dtype \n",
      "---  ------        --------------  ----- \n",
      " 0   Event Name    18003 non-null  object\n",
      " 1   Athlete Name  17985 non-null  object\n",
      " 2   Team          18003 non-null  object\n",
      " 3   Mark          18003 non-null  object\n",
      " 4   Event Type    18003 non-null  object\n",
      " 5   Gender        18003 non-null  object\n",
      "dtypes: object(6)\n",
      "memory usage: 844.0+ KB\n"
     ]
    }
   ],
   "source": [
    "df.info()"
   ]
  },
  {
   "cell_type": "code",
   "execution_count": 49,
   "metadata": {},
   "outputs": [
    {
     "data": {
      "text/plain": [
       "2652     1\n",
       "3509     1\n",
       "4594     1\n",
       "1491     1\n",
       "637      1\n",
       "        ..\n",
       "6017     0\n",
       "6018     0\n",
       "6019     0\n",
       "6020     0\n",
       "18002    0\n",
       "Length: 18003, dtype: int64"
      ]
     },
     "execution_count": 49,
     "metadata": {},
     "output_type": "execute_result"
    }
   ],
   "source": [
    "# count the frequency of missing values in each row (i.e. how many columns are empty)\n",
    "df.isnull().sum(axis=1).sort_values(ascending = False)\n"
   ]
  },
  {
   "cell_type": "code",
   "execution_count": 50,
   "metadata": {},
   "outputs": [
    {
     "data": {
      "text/plain": [
       "Event Name       0\n",
       "Athlete Name    18\n",
       "Team             0\n",
       "Mark             0\n",
       "Event Type       0\n",
       "Gender           0\n",
       "dtype: int64"
      ]
     },
     "execution_count": 50,
     "metadata": {},
     "output_type": "execute_result"
    }
   ],
   "source": [
    "# check the frequency of null values in each column\n",
    "df.isnull().sum()"
   ]
  },
  {
   "cell_type": "code",
   "execution_count": 51,
   "metadata": {},
   "outputs": [],
   "source": [
    "# handle missing data -- deletion\n",
    "df = df[df.isnull().sum(axis=1) < 1] # delete rows with 1 or more missing variables (in each row)\n"
   ]
  },
  {
   "cell_type": "code",
   "execution_count": 52,
   "metadata": {},
   "outputs": [
    {
     "data": {
      "text/plain": [
       "Event Name      0\n",
       "Athlete Name    0\n",
       "Team            0\n",
       "Mark            0\n",
       "Event Type      0\n",
       "Gender          0\n",
       "dtype: int64"
      ]
     },
     "execution_count": 52,
     "metadata": {},
     "output_type": "execute_result"
    }
   ],
   "source": [
    "# ensure that missing data is removed\n",
    "df.isnull().sum()"
   ]
  },
  {
   "cell_type": "code",
   "execution_count": 53,
   "metadata": {},
   "outputs": [],
   "source": [
    "# remove data from other event types\n",
    "df = df.drop(df[df['Event Type'] == 'DMR'].index)\n",
    "df = df.drop(df[df['Event Type'] == 'HJ'].index)\n",
    "df = df.drop(df[df['Event Type'] == 'PV'].index)\n",
    "df = df.drop(df[df['Event Type'] == 'LJ'].index)\n",
    "df = df.drop(df[df['Event Type'] == 'TJ'].index)\n",
    "df = df.drop(df[df['Event Type'] == 'SP'].index)\n",
    "df = df.drop(df[df['Event Type'] == 'WT'].index)\n",
    "df = df.drop(df[df['Event Type'] == 'Hep'].index)\n",
    "df = df.drop(df[df['Event Type'] == '4x400'].index)\n",
    "df = df.drop(df[df['Event Type'] == '4x800'].index)"
   ]
  },
  {
   "cell_type": "code",
   "execution_count": 54,
   "metadata": {},
   "outputs": [],
   "source": [
    "# remove non-running events\n",
    "df['Mark']  = df['Mark'].astype('string')\n",
    "\n",
    "filtered_df = df[~df['Mark'].str.contains('m')]"
   ]
  },
  {
   "cell_type": "code",
   "execution_count": 55,
   "metadata": {},
   "outputs": [
    {
     "name": "stderr",
     "output_type": "stream",
     "text": [
      "C:\\Users\\joeyt\\AppData\\Local\\Temp\\ipykernel_21672\\2760865588.py:35: SettingWithCopyWarning: \n",
      "A value is trying to be set on a copy of a slice from a DataFrame.\n",
      "Try using .loc[row_indexer,col_indexer] = value instead\n",
      "\n",
      "See the caveats in the documentation: https://pandas.pydata.org/pandas-docs/stable/user_guide/indexing.html#returning-a-view-versus-a-copy\n",
      "  filtered_df.loc[:, 'Mark in Seconds'] = filtered_df['Mark'].apply(convert_mark)\n"
     ]
    }
   ],
   "source": [
    "# convert times to seconds/hundredths\n",
    "def convert_mark(mark):\n",
    "    \"\"\"Converts string time to seconds/hundredths\n",
    "    \n",
    "    Parameters:\n",
    "    - mark (str): time as minutes:seconds.tenths\n",
    "    \n",
    "    Returns:\n",
    "    - float: time in seconds \"\"\"\n",
    "\n",
    "    if \":\" not in mark:\n",
    "        return mark\n",
    "    else:\n",
    "\n",
    "        minutes, seconds_with_hundredths = mark.split(\":\")\n",
    "    \n",
    "        # Convert minutes to seconds and add to seconds\n",
    "        total_seconds = int(minutes) * 60 + int(seconds_with_hundredths.split('.')[0])\n",
    "\n",
    "        hundredths = (\"0.\" + seconds_with_hundredths.split('.')[1]).replace(\"#\", \"\")\n",
    "        hundredths = hundredths.replace(\"@\", \"\")\n",
    "        hundredths = hundredths.replace(\"(600)\", \"\")\n",
    "        hundredths = hundredths.replace(\"(440)\", \"\")\n",
    "        hundredths = hundredths.replace(\"(4400)\", \"\")\n",
    "        hundredths = hundredths.replace(\"#\", \"\")\n",
    "    \n",
    "        # Combine seconds with hundredths\n",
    "        total_seconds += float(hundredths)\n",
    "    \n",
    "        return total_seconds\n",
    "\n",
    "convert_mark(\"9:57.17\")\n",
    "\n",
    "# apply to all times in data frame\n",
    "filtered_df.loc[:, 'Mark in Seconds'] = filtered_df['Mark'].apply(convert_mark)\n"
   ]
  },
  {
   "cell_type": "code",
   "execution_count": 56,
   "metadata": {},
   "outputs": [
    {
     "name": "stdout",
     "output_type": "stream",
     "text": [
      "['7.94' '26.16' '59.10' ... 958.57 93.71 620.22]\n"
     ]
    },
    {
     "name": "stderr",
     "output_type": "stream",
     "text": [
      "C:\\Users\\joeyt\\AppData\\Local\\Temp\\ipykernel_21672\\732043009.py:16: SettingWithCopyWarning: \n",
      "A value is trying to be set on a copy of a slice from a DataFrame\n",
      "\n",
      "See the caveats in the documentation: https://pandas.pydata.org/pandas-docs/stable/user_guide/indexing.html#returning-a-view-versus-a-copy\n",
      "  filtered_df.dropna(inplace=True)\n"
     ]
    }
   ],
   "source": [
    "print(filtered_df['Mark in Seconds'].unique())\n",
    "\n",
    "import numpy as np\n",
    "\n",
    "# Define a custom conversion function\n",
    "def safe_float_conversion(value):\n",
    "    try:\n",
    "        return float(value)\n",
    "    except ValueError:\n",
    "        return np.nan\n",
    "\n",
    "# Apply the custom conversion function to the 'Mark in Seconds' column\n",
    "filtered_df.loc[:, 'Mark in Seconds'] = filtered_df['Mark in Seconds'].apply(safe_float_conversion)\n",
    "\n",
    "# Drop rows with NaN values from the DataFrame\n",
    "filtered_df.dropna(inplace=True)\n"
   ]
  },
  {
   "cell_type": "code",
   "execution_count": 57,
   "metadata": {},
   "outputs": [],
   "source": [
    "#subsetting: only extract 400m event\n",
    "df_400m = filtered_df[filtered_df['Event Name'] == '400']"
   ]
  },
  {
   "cell_type": "code",
   "execution_count": 58,
   "metadata": {},
   "outputs": [
    {
     "data": {
      "text/plain": [
       "<Axes: xlabel='Gender'>"
      ]
     },
     "execution_count": 58,
     "metadata": {},
     "output_type": "execute_result"
    },
    {
     "data": {
      "image/png": "[encoded data removed]",
      "text/plain": [
       "<Figure size 640x480 with 1 Axes>"
      ]
     },
     "metadata": {},
     "output_type": "display_data"
    }
   ],
   "source": [
    "import numpy as np\n",
    "import matplotlib.pyplot as plt\n",
    "import seaborn as sns\n",
    "\n",
    "df_400m.plot.bar(x='Gender', y='Mark in Seconds')"
   ]
  },
  {
   "cell_type": "code",
   "execution_count": 59,
   "metadata": {},
   "outputs": [
    {
     "data": {
      "text/plain": [
       "0          7.94\n",
       "1         26.16\n",
       "2          59.1\n",
       "3         99.05\n",
       "4        139.14\n",
       "          ...  \n",
       "17992    958.57\n",
       "17993      8.63\n",
       "17994     93.71\n",
       "17995    203.85\n",
       "17996    620.22\n",
       "Name: Mark in Seconds, Length: 12262, dtype: object"
      ]
     },
     "execution_count": 59,
     "metadata": {},
     "output_type": "execute_result"
    }
   ],
   "source": [
    "filtered_df['Mark in Seconds']"
   ]
  }
 ],
 "metadata": {
  "kernelspec": {
   "display_name": "base",
   "language": "python",
   "name": "python3"
  },
  "language_info": {
   "codemirror_mode": {
    "name": "ipython",
    "version": 3
   },
   "file_extension": ".py",
   "mimetype": "text/x-python",
   "name": "python",
   "nbconvert_exporter": "python",
   "pygments_lexer": "ipython3",
   "version": "3.10.4"
  }
 },
 "nbformat": 4,
 "nbformat_minor": 2
}
