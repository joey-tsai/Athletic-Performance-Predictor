{
 "cells": [
  {
   "cell_type": "code",
   "execution_count": 56,
   "metadata": {},
   "outputs": [],
   "source": [
    "# import libraries\n",
    "import pandas as pd"
   ]
  },
  {
   "cell_type": "code",
   "execution_count": 57,
   "metadata": {},
   "outputs": [
    {
     "name": "stdout",
     "output_type": "stream",
     "text": [
      "There are 18003 rows and 5 columns.\n"
     ]
    }
   ],
   "source": [
    "# load data\n",
    "df = pd.read_csv('performance_data.csv')\n",
    "\n",
    "#inspect the dimensons\n",
    "print('There are {} rows and {} columns.'.format(df.shape[0], df.shape[1]))"
   ]
  },
  {
   "cell_type": "code",
   "execution_count": 83,
   "metadata": {},
   "outputs": [
    {
     "data": {
      "text/html": [
       "<div>\n",
       "<style scoped>\n",
       "    .dataframe tbody tr th:only-of-type {\n",
       "        vertical-align: middle;\n",
       "    }\n",
       "\n",
       "    .dataframe tbody tr th {\n",
       "        vertical-align: top;\n",
       "    }\n",
       "\n",
       "    .dataframe thead th {\n",
       "        text-align: right;\n",
       "    }\n",
       "</style>\n",
       "<table border=\"1\" class=\"dataframe\">\n",
       "  <thead>\n",
       "    <tr style=\"text-align: right;\">\n",
       "      <th></th>\n",
       "      <th>Event Name</th>\n",
       "      <th>Athlete Name</th>\n",
       "      <th>Team</th>\n",
       "      <th>Mark</th>\n",
       "      <th>Event Type</th>\n",
       "      <th>Gender</th>\n",
       "    </tr>\n",
       "  </thead>\n",
       "  <tbody>\n",
       "    <tr>\n",
       "      <th>17983</th>\n",
       "      <td>200</td>\n",
       "      <td>Egizio, Jake</td>\n",
       "      <td>PSU-Behrend (M)</td>\n",
       "      <td>22.40</td>\n",
       "      <td>Individual</td>\n",
       "      <td>(M)</td>\n",
       "    </tr>\n",
       "    <tr>\n",
       "      <th>17984</th>\n",
       "      <td>300</td>\n",
       "      <td>Luce, Brendan</td>\n",
       "      <td>PSU-Behrend (M)</td>\n",
       "      <td>38.12</td>\n",
       "      <td>Individual</td>\n",
       "      <td>(M)</td>\n",
       "    </tr>\n",
       "    <tr>\n",
       "      <th>17985</th>\n",
       "      <td>400</td>\n",
       "      <td>Egizio, Jake</td>\n",
       "      <td>PSU-Behrend (M)</td>\n",
       "      <td>50.08</td>\n",
       "      <td>Individual</td>\n",
       "      <td>(M)</td>\n",
       "    </tr>\n",
       "    <tr>\n",
       "      <th>17986</th>\n",
       "      <td>500</td>\n",
       "      <td>Klein, Kody</td>\n",
       "      <td>PSU-Behrend (M)</td>\n",
       "      <td>1:09.35</td>\n",
       "      <td>Individual</td>\n",
       "      <td>(M)</td>\n",
       "    </tr>\n",
       "    <tr>\n",
       "      <th>17987</th>\n",
       "      <td>600</td>\n",
       "      <td>Elgin, Joe</td>\n",
       "      <td>PSU-Behrend (M)</td>\n",
       "      <td>1:32.19</td>\n",
       "      <td>Individual</td>\n",
       "      <td>(M)</td>\n",
       "    </tr>\n",
       "    <tr>\n",
       "      <th>17988</th>\n",
       "      <td>800</td>\n",
       "      <td>Klein, Kody</td>\n",
       "      <td>PSU-Behrend (M)</td>\n",
       "      <td>1:57.25</td>\n",
       "      <td>Individual</td>\n",
       "      <td>(M)</td>\n",
       "    </tr>\n",
       "    <tr>\n",
       "      <th>17989</th>\n",
       "      <td>1000</td>\n",
       "      <td>Seevers, Jason</td>\n",
       "      <td>PSU-Behrend (M)</td>\n",
       "      <td>2:44.47</td>\n",
       "      <td>Individual</td>\n",
       "      <td>(M)</td>\n",
       "    </tr>\n",
       "    <tr>\n",
       "      <th>17990</th>\n",
       "      <td>Mile</td>\n",
       "      <td>Klein, Kody</td>\n",
       "      <td>PSU-Behrend (M)</td>\n",
       "      <td>4:23.11</td>\n",
       "      <td>Individual</td>\n",
       "      <td>(M)</td>\n",
       "    </tr>\n",
       "    <tr>\n",
       "      <th>17991</th>\n",
       "      <td>3000</td>\n",
       "      <td>Klein, Kody</td>\n",
       "      <td>PSU-Behrend (M)</td>\n",
       "      <td>9:05.67</td>\n",
       "      <td>Individual</td>\n",
       "      <td>(M)</td>\n",
       "    </tr>\n",
       "    <tr>\n",
       "      <th>17992</th>\n",
       "      <td>5000</td>\n",
       "      <td>Kerr, Bennett</td>\n",
       "      <td>PSU-Behrend (M)</td>\n",
       "      <td>15:58.57</td>\n",
       "      <td>Individual</td>\n",
       "      <td>(M)</td>\n",
       "    </tr>\n",
       "    <tr>\n",
       "      <th>17993</th>\n",
       "      <td>60H</td>\n",
       "      <td>Florence, Odis</td>\n",
       "      <td>PSU-Behrend (M)</td>\n",
       "      <td>8.63</td>\n",
       "      <td>Individual</td>\n",
       "      <td>(M)</td>\n",
       "    </tr>\n",
       "    <tr>\n",
       "      <th>17994</th>\n",
       "      <td>4x200</td>\n",
       "      <td>Brandon Konieczki, Jake Egizio, Dominic Marino...</td>\n",
       "      <td>PSU-Behrend (M)</td>\n",
       "      <td>1:33.71</td>\n",
       "      <td>Relay</td>\n",
       "      <td>(M)</td>\n",
       "    </tr>\n",
       "    <tr>\n",
       "      <th>17995</th>\n",
       "      <td>4x400</td>\n",
       "      <td>Brendan Luce, Jake Walden, Kody Klein, Jake Eg...</td>\n",
       "      <td>PSU-Behrend (M)</td>\n",
       "      <td>3:23.85</td>\n",
       "      <td>Relay</td>\n",
       "      <td>(M)</td>\n",
       "    </tr>\n",
       "    <tr>\n",
       "      <th>17996</th>\n",
       "      <td>DMR</td>\n",
       "      <td>Aidan Domencic, Jake Walden, Jason Seevers, Ko...</td>\n",
       "      <td>PSU-Behrend (M)</td>\n",
       "      <td>10:20.22</td>\n",
       "      <td>Relay</td>\n",
       "      <td>(M)</td>\n",
       "    </tr>\n",
       "    <tr>\n",
       "      <th>17997</th>\n",
       "      <td>HJ</td>\n",
       "      <td>Hetrick, Samuel</td>\n",
       "      <td>PSU-Behrend (M)</td>\n",
       "      <td>2.02m</td>\n",
       "      <td>Individual</td>\n",
       "      <td>(M)</td>\n",
       "    </tr>\n",
       "    <tr>\n",
       "      <th>17998</th>\n",
       "      <td>PV</td>\n",
       "      <td>Festa, Ryan</td>\n",
       "      <td>PSU-Behrend (M)</td>\n",
       "      <td>4.65m</td>\n",
       "      <td>Individual</td>\n",
       "      <td>(M)</td>\n",
       "    </tr>\n",
       "    <tr>\n",
       "      <th>17999</th>\n",
       "      <td>LJ</td>\n",
       "      <td>Konieczki, Brandon</td>\n",
       "      <td>PSU-Behrend (M)</td>\n",
       "      <td>6.69m</td>\n",
       "      <td>Individual</td>\n",
       "      <td>(M)</td>\n",
       "    </tr>\n",
       "    <tr>\n",
       "      <th>18000</th>\n",
       "      <td>TJ</td>\n",
       "      <td>Laslavic, Matt</td>\n",
       "      <td>PSU-Behrend (M)</td>\n",
       "      <td>12.61m</td>\n",
       "      <td>Individual</td>\n",
       "      <td>(M)</td>\n",
       "    </tr>\n",
       "    <tr>\n",
       "      <th>18001</th>\n",
       "      <td>SP</td>\n",
       "      <td>Cotton, Alex</td>\n",
       "      <td>PSU-Behrend (M)</td>\n",
       "      <td>15.46m</td>\n",
       "      <td>Individual</td>\n",
       "      <td>(M)</td>\n",
       "    </tr>\n",
       "    <tr>\n",
       "      <th>18002</th>\n",
       "      <td>WT</td>\n",
       "      <td>Rohl, Max</td>\n",
       "      <td>PSU-Behrend (M)</td>\n",
       "      <td>14.36m</td>\n",
       "      <td>Individual</td>\n",
       "      <td>(M)</td>\n",
       "    </tr>\n",
       "  </tbody>\n",
       "</table>\n",
       "</div>"
      ],
      "text/plain": [
       "      Event Name                                       Athlete Name  \\\n",
       "17983        200                                       Egizio, Jake   \n",
       "17984        300                                      Luce, Brendan   \n",
       "17985        400                                       Egizio, Jake   \n",
       "17986        500                                        Klein, Kody   \n",
       "17987        600                                         Elgin, Joe   \n",
       "17988        800                                        Klein, Kody   \n",
       "17989       1000                                     Seevers, Jason   \n",
       "17990       Mile                                        Klein, Kody   \n",
       "17991       3000                                        Klein, Kody   \n",
       "17992       5000                                      Kerr, Bennett   \n",
       "17993        60H                                     Florence, Odis   \n",
       "17994      4x200  Brandon Konieczki, Jake Egizio, Dominic Marino...   \n",
       "17995      4x400  Brendan Luce, Jake Walden, Kody Klein, Jake Eg...   \n",
       "17996        DMR  Aidan Domencic, Jake Walden, Jason Seevers, Ko...   \n",
       "17997         HJ                                    Hetrick, Samuel   \n",
       "17998         PV                                        Festa, Ryan   \n",
       "17999         LJ                                 Konieczki, Brandon   \n",
       "18000         TJ                                     Laslavic, Matt   \n",
       "18001         SP                                       Cotton, Alex   \n",
       "18002         WT                                          Rohl, Max   \n",
       "\n",
       "                  Team      Mark  Event Type Gender  \n",
       "17983  PSU-Behrend (M)     22.40  Individual    (M)  \n",
       "17984  PSU-Behrend (M)     38.12  Individual    (M)  \n",
       "17985  PSU-Behrend (M)     50.08  Individual    (M)  \n",
       "17986  PSU-Behrend (M)   1:09.35  Individual    (M)  \n",
       "17987  PSU-Behrend (M)   1:32.19  Individual    (M)  \n",
       "17988  PSU-Behrend (M)   1:57.25  Individual    (M)  \n",
       "17989  PSU-Behrend (M)   2:44.47  Individual    (M)  \n",
       "17990  PSU-Behrend (M)   4:23.11  Individual    (M)  \n",
       "17991  PSU-Behrend (M)   9:05.67  Individual    (M)  \n",
       "17992  PSU-Behrend (M)  15:58.57  Individual    (M)  \n",
       "17993  PSU-Behrend (M)      8.63  Individual    (M)  \n",
       "17994  PSU-Behrend (M)   1:33.71       Relay    (M)  \n",
       "17995  PSU-Behrend (M)   3:23.85       Relay    (M)  \n",
       "17996  PSU-Behrend (M)  10:20.22       Relay    (M)  \n",
       "17997  PSU-Behrend (M)     2.02m  Individual    (M)  \n",
       "17998  PSU-Behrend (M)     4.65m  Individual    (M)  \n",
       "17999  PSU-Behrend (M)     6.69m  Individual    (M)  \n",
       "18000  PSU-Behrend (M)    12.61m  Individual    (M)  \n",
       "18001  PSU-Behrend (M)    15.46m  Individual    (M)  \n",
       "18002  PSU-Behrend (M)    14.36m  Individual    (M)  "
      ]
     },
     "execution_count": 83,
     "metadata": {},
     "output_type": "execute_result"
    }
   ],
   "source": [
    "# view samples of the data\n",
    "df.tail(20)"
   ]
  },
  {
   "cell_type": "code",
   "execution_count": 59,
   "metadata": {},
   "outputs": [],
   "source": [
    "# add column for gender (based on gender in team column)\n",
    "df['Gender'] = df['Team'].str[-3:]"
   ]
  },
  {
   "cell_type": "code",
   "execution_count": 60,
   "metadata": {},
   "outputs": [
    {
     "name": "stdout",
     "output_type": "stream",
     "text": [
      "<class 'pandas.core.frame.DataFrame'>\n",
      "RangeIndex: 18003 entries, 0 to 18002\n",
      "Data columns (total 6 columns):\n",
      " #   Column        Non-Null Count  Dtype \n",
      "---  ------        --------------  ----- \n",
      " 0   Event Name    18003 non-null  object\n",
      " 1   Athlete Name  17985 non-null  object\n",
      " 2   Team          18003 non-null  object\n",
      " 3   Mark          18003 non-null  object\n",
      " 4   Event Type    18003 non-null  object\n",
      " 5   Gender        18003 non-null  object\n",
      "dtypes: object(6)\n",
      "memory usage: 844.0+ KB\n"
     ]
    }
   ],
   "source": [
    "df.info()"
   ]
  },
  {
   "cell_type": "code",
   "execution_count": 61,
   "metadata": {},
   "outputs": [
    {
     "data": {
      "text/plain": [
       "2652     1\n",
       "3509     1\n",
       "4594     1\n",
       "1491     1\n",
       "637      1\n",
       "        ..\n",
       "6017     0\n",
       "6018     0\n",
       "6019     0\n",
       "6020     0\n",
       "18002    0\n",
       "Length: 18003, dtype: int64"
      ]
     },
     "execution_count": 61,
     "metadata": {},
     "output_type": "execute_result"
    }
   ],
   "source": [
    "# count the frequency of missing values in each row (i.e. how many columns are empty)\n",
    "df.isnull().sum(axis=1).sort_values(ascending = False)\n"
   ]
  },
  {
   "cell_type": "code",
   "execution_count": 62,
   "metadata": {},
   "outputs": [
    {
     "data": {
      "text/plain": [
       "Event Name       0\n",
       "Athlete Name    18\n",
       "Team             0\n",
       "Mark             0\n",
       "Event Type       0\n",
       "Gender           0\n",
       "dtype: int64"
      ]
     },
     "execution_count": 62,
     "metadata": {},
     "output_type": "execute_result"
    }
   ],
   "source": [
    "# check the frequency of null values in each column\n",
    "df.isnull().sum()"
   ]
  },
  {
   "cell_type": "code",
   "execution_count": 63,
   "metadata": {},
   "outputs": [],
   "source": [
    "# handle missing data -- deletion\n",
    "df = df[df.isnull().sum(axis=1) < 1] # delete rows with 1 or more missing variables (in each row)\n"
   ]
  },
  {
   "cell_type": "code",
   "execution_count": 64,
   "metadata": {},
   "outputs": [
    {
     "data": {
      "text/plain": [
       "Event Name      0\n",
       "Athlete Name    0\n",
       "Team            0\n",
       "Mark            0\n",
       "Event Type      0\n",
       "Gender          0\n",
       "dtype: int64"
      ]
     },
     "execution_count": 64,
     "metadata": {},
     "output_type": "execute_result"
    }
   ],
   "source": [
    "# ensure that missing data is removed\n",
    "df.isnull().sum()"
   ]
  },
  {
   "cell_type": "code",
   "execution_count": 65,
   "metadata": {},
   "outputs": [],
   "source": [
    "# remove data from other event types\n",
    "df = df.drop(df[df['Event Type'] == 'DMR'].index)\n",
    "df = df.drop(df[df['Event Type'] == 'HJ'].index)\n",
    "df = df.drop(df[df['Event Type'] == 'PV'].index)\n",
    "df = df.drop(df[df['Event Type'] == 'LJ'].index)\n",
    "df = df.drop(df[df['Event Type'] == 'TJ'].index)\n",
    "df = df.drop(df[df['Event Type'] == 'SP'].index)\n",
    "df = df.drop(df[df['Event Type'] == 'WT'].index)\n",
    "df = df.drop(df[df['Event Type'] == 'Hep'].index)\n",
    "df = df.drop(df[df['Event Type'] == '4x400'].index)\n",
    "df = df.drop(df[df['Event Type'] == '4x800'].index)"
   ]
  },
  {
   "cell_type": "code",
   "execution_count": 69,
   "metadata": {},
   "outputs": [],
   "source": [
    "# remove non-running events\n",
    "df['Mark']  = df['Mark'].astype('string')\n",
    "\n",
    "filtered_df = df[~df['Mark'].str.contains('m')]"
   ]
  },
  {
   "cell_type": "code",
   "execution_count": 79,
   "metadata": {},
   "outputs": [
    {
     "name": "stderr",
     "output_type": "stream",
     "text": [
      "/var/folders/_q/whhxl_rd61gcb6kdz_mv3bzc0000gn/T/ipykernel_73882/1489997331.py:35: SettingWithCopyWarning: \n",
      "A value is trying to be set on a copy of a slice from a DataFrame.\n",
      "Try using .loc[row_indexer,col_indexer] = value instead\n",
      "\n",
      "See the caveats in the documentation: https://pandas.pydata.org/pandas-docs/stable/user_guide/indexing.html#returning-a-view-versus-a-copy\n",
      "  filtered_df['Mark in Seconds'] = filtered_df['Mark'].apply(convert_mark)\n"
     ]
    }
   ],
   "source": [
    "# convert times to seconds/hundredths\n",
    "def convert_mark(mark):\n",
    "    \"\"\"Converts string time to seconds/hundredths\n",
    "    \n",
    "    Parameters:\n",
    "    - mark (str): time as minutes:seconds.tenths\n",
    "    \n",
    "    Returns:\n",
    "    - float: time in seconds \"\"\"\n",
    "\n",
    "    if \":\" not in mark:\n",
    "        return mark\n",
    "    else:\n",
    "\n",
    "        minutes, seconds_with_hundredths = mark.split(\":\")\n",
    "    \n",
    "        # Convert minutes to seconds and add to seconds\n",
    "        total_seconds = int(minutes) * 60 + int(seconds_with_hundredths.split('.')[0])\n",
    "\n",
    "        hundredths = (\"0.\" + seconds_with_hundredths.split('.')[1]).replace(\"#\", \"\")\n",
    "        hundredths = hundredths.replace(\"@\", \"\")\n",
    "        hundredths = hundredths.replace(\"(600)\", \"\")\n",
    "        hundredths = hundredths.replace(\"(440)\", \"\")\n",
    "        hundredths = hundredths.replace(\"(4400)\", \"\")\n",
    "        hundredths = hundredths.replace(\"#\", \"\")\n",
    "    \n",
    "        # Combine seconds with hundredths\n",
    "        total_seconds += float(hundredths)\n",
    "    \n",
    "        return total_seconds\n",
    "\n",
    "convert_mark(\"9:57.17\")\n",
    "\n",
    "# apply to all times in data frame\n",
    "filtered_df['Mark in Seconds'] = filtered_df['Mark'].apply(convert_mark)\n"
   ]
  },
  {
   "cell_type": "code",
   "execution_count": 81,
   "metadata": {},
   "outputs": [
    {
     "ename": "ValueError",
     "evalue": "could not convert string to float: '3117#'",
     "output_type": "error",
     "traceback": [
      "\u001b[0;31m---------------------------------------------------------------------------\u001b[0m",
      "\u001b[0;31mValueError\u001b[0m                                Traceback (most recent call last)",
      "Cell \u001b[0;32mIn[81], line 2\u001b[0m\n\u001b[1;32m      1\u001b[0m \u001b[38;5;66;03m# convert fields to suitable data types\u001b[39;00m\n\u001b[0;32m----> 2\u001b[0m filtered_df[\u001b[38;5;124m'\u001b[39m\u001b[38;5;124mMark in Seconds\u001b[39m\u001b[38;5;124m'\u001b[39m]  \u001b[38;5;241m=\u001b[39m filtered_df[\u001b[38;5;124m'\u001b[39m\u001b[38;5;124mMark in Seconds\u001b[39m\u001b[38;5;124m'\u001b[39m]\u001b[38;5;241m.\u001b[39mastype(\u001b[38;5;28mfloat\u001b[39m)\n",
      "File \u001b[0;32m~/anaconda3/lib/python3.11/site-packages/pandas/core/generic.py:6324\u001b[0m, in \u001b[0;36mNDFrame.astype\u001b[0;34m(self, dtype, copy, errors)\u001b[0m\n\u001b[1;32m   6317\u001b[0m     results \u001b[38;5;241m=\u001b[39m [\n\u001b[1;32m   6318\u001b[0m         \u001b[38;5;28mself\u001b[39m\u001b[38;5;241m.\u001b[39miloc[:, i]\u001b[38;5;241m.\u001b[39mastype(dtype, copy\u001b[38;5;241m=\u001b[39mcopy)\n\u001b[1;32m   6319\u001b[0m         \u001b[38;5;28;01mfor\u001b[39;00m i \u001b[38;5;129;01min\u001b[39;00m \u001b[38;5;28mrange\u001b[39m(\u001b[38;5;28mlen\u001b[39m(\u001b[38;5;28mself\u001b[39m\u001b[38;5;241m.\u001b[39mcolumns))\n\u001b[1;32m   6320\u001b[0m     ]\n\u001b[1;32m   6322\u001b[0m \u001b[38;5;28;01melse\u001b[39;00m:\n\u001b[1;32m   6323\u001b[0m     \u001b[38;5;66;03m# else, only a single dtype is given\u001b[39;00m\n\u001b[0;32m-> 6324\u001b[0m     new_data \u001b[38;5;241m=\u001b[39m \u001b[38;5;28mself\u001b[39m\u001b[38;5;241m.\u001b[39m_mgr\u001b[38;5;241m.\u001b[39mastype(dtype\u001b[38;5;241m=\u001b[39mdtype, copy\u001b[38;5;241m=\u001b[39mcopy, errors\u001b[38;5;241m=\u001b[39merrors)\n\u001b[1;32m   6325\u001b[0m     \u001b[38;5;28;01mreturn\u001b[39;00m \u001b[38;5;28mself\u001b[39m\u001b[38;5;241m.\u001b[39m_constructor(new_data)\u001b[38;5;241m.\u001b[39m__finalize__(\u001b[38;5;28mself\u001b[39m, method\u001b[38;5;241m=\u001b[39m\u001b[38;5;124m\"\u001b[39m\u001b[38;5;124mastype\u001b[39m\u001b[38;5;124m\"\u001b[39m)\n\u001b[1;32m   6327\u001b[0m \u001b[38;5;66;03m# GH 33113: handle empty frame or series\u001b[39;00m\n",
      "File \u001b[0;32m~/anaconda3/lib/python3.11/site-packages/pandas/core/internals/managers.py:451\u001b[0m, in \u001b[0;36mBaseBlockManager.astype\u001b[0;34m(self, dtype, copy, errors)\u001b[0m\n\u001b[1;32m    448\u001b[0m \u001b[38;5;28;01melif\u001b[39;00m using_copy_on_write():\n\u001b[1;32m    449\u001b[0m     copy \u001b[38;5;241m=\u001b[39m \u001b[38;5;28;01mFalse\u001b[39;00m\n\u001b[0;32m--> 451\u001b[0m \u001b[38;5;28;01mreturn\u001b[39;00m \u001b[38;5;28mself\u001b[39m\u001b[38;5;241m.\u001b[39mapply(\n\u001b[1;32m    452\u001b[0m     \u001b[38;5;124m\"\u001b[39m\u001b[38;5;124mastype\u001b[39m\u001b[38;5;124m\"\u001b[39m,\n\u001b[1;32m    453\u001b[0m     dtype\u001b[38;5;241m=\u001b[39mdtype,\n\u001b[1;32m    454\u001b[0m     copy\u001b[38;5;241m=\u001b[39mcopy,\n\u001b[1;32m    455\u001b[0m     errors\u001b[38;5;241m=\u001b[39merrors,\n\u001b[1;32m    456\u001b[0m     using_cow\u001b[38;5;241m=\u001b[39musing_copy_on_write(),\n\u001b[1;32m    457\u001b[0m )\n",
      "File \u001b[0;32m~/anaconda3/lib/python3.11/site-packages/pandas/core/internals/managers.py:352\u001b[0m, in \u001b[0;36mBaseBlockManager.apply\u001b[0;34m(self, f, align_keys, **kwargs)\u001b[0m\n\u001b[1;32m    350\u001b[0m         applied \u001b[38;5;241m=\u001b[39m b\u001b[38;5;241m.\u001b[39mapply(f, \u001b[38;5;241m*\u001b[39m\u001b[38;5;241m*\u001b[39mkwargs)\n\u001b[1;32m    351\u001b[0m     \u001b[38;5;28;01melse\u001b[39;00m:\n\u001b[0;32m--> 352\u001b[0m         applied \u001b[38;5;241m=\u001b[39m \u001b[38;5;28mgetattr\u001b[39m(b, f)(\u001b[38;5;241m*\u001b[39m\u001b[38;5;241m*\u001b[39mkwargs)\n\u001b[1;32m    353\u001b[0m     result_blocks \u001b[38;5;241m=\u001b[39m extend_blocks(applied, result_blocks)\n\u001b[1;32m    355\u001b[0m out \u001b[38;5;241m=\u001b[39m \u001b[38;5;28mtype\u001b[39m(\u001b[38;5;28mself\u001b[39m)\u001b[38;5;241m.\u001b[39mfrom_blocks(result_blocks, \u001b[38;5;28mself\u001b[39m\u001b[38;5;241m.\u001b[39maxes)\n",
      "File \u001b[0;32m~/anaconda3/lib/python3.11/site-packages/pandas/core/internals/blocks.py:511\u001b[0m, in \u001b[0;36mBlock.astype\u001b[0;34m(self, dtype, copy, errors, using_cow)\u001b[0m\n\u001b[1;32m    491\u001b[0m \u001b[38;5;250m\u001b[39m\u001b[38;5;124;03m\"\"\"\u001b[39;00m\n\u001b[1;32m    492\u001b[0m \u001b[38;5;124;03mCoerce to the new dtype.\u001b[39;00m\n\u001b[1;32m    493\u001b[0m \n\u001b[0;32m   (...)\u001b[0m\n\u001b[1;32m    507\u001b[0m \u001b[38;5;124;03mBlock\u001b[39;00m\n\u001b[1;32m    508\u001b[0m \u001b[38;5;124;03m\"\"\"\u001b[39;00m\n\u001b[1;32m    509\u001b[0m values \u001b[38;5;241m=\u001b[39m \u001b[38;5;28mself\u001b[39m\u001b[38;5;241m.\u001b[39mvalues\n\u001b[0;32m--> 511\u001b[0m new_values \u001b[38;5;241m=\u001b[39m astype_array_safe(values, dtype, copy\u001b[38;5;241m=\u001b[39mcopy, errors\u001b[38;5;241m=\u001b[39merrors)\n\u001b[1;32m    513\u001b[0m new_values \u001b[38;5;241m=\u001b[39m maybe_coerce_values(new_values)\n\u001b[1;32m    515\u001b[0m refs \u001b[38;5;241m=\u001b[39m \u001b[38;5;28;01mNone\u001b[39;00m\n",
      "File \u001b[0;32m~/anaconda3/lib/python3.11/site-packages/pandas/core/dtypes/astype.py:242\u001b[0m, in \u001b[0;36mastype_array_safe\u001b[0;34m(values, dtype, copy, errors)\u001b[0m\n\u001b[1;32m    239\u001b[0m     dtype \u001b[38;5;241m=\u001b[39m dtype\u001b[38;5;241m.\u001b[39mnumpy_dtype\n\u001b[1;32m    241\u001b[0m \u001b[38;5;28;01mtry\u001b[39;00m:\n\u001b[0;32m--> 242\u001b[0m     new_values \u001b[38;5;241m=\u001b[39m astype_array(values, dtype, copy\u001b[38;5;241m=\u001b[39mcopy)\n\u001b[1;32m    243\u001b[0m \u001b[38;5;28;01mexcept\u001b[39;00m (\u001b[38;5;167;01mValueError\u001b[39;00m, \u001b[38;5;167;01mTypeError\u001b[39;00m):\n\u001b[1;32m    244\u001b[0m     \u001b[38;5;66;03m# e.g. _astype_nansafe can fail on object-dtype of strings\u001b[39;00m\n\u001b[1;32m    245\u001b[0m     \u001b[38;5;66;03m#  trying to convert to float\u001b[39;00m\n\u001b[1;32m    246\u001b[0m     \u001b[38;5;28;01mif\u001b[39;00m errors \u001b[38;5;241m==\u001b[39m \u001b[38;5;124m\"\u001b[39m\u001b[38;5;124mignore\u001b[39m\u001b[38;5;124m\"\u001b[39m:\n",
      "File \u001b[0;32m~/anaconda3/lib/python3.11/site-packages/pandas/core/dtypes/astype.py:187\u001b[0m, in \u001b[0;36mastype_array\u001b[0;34m(values, dtype, copy)\u001b[0m\n\u001b[1;32m    184\u001b[0m     values \u001b[38;5;241m=\u001b[39m values\u001b[38;5;241m.\u001b[39mastype(dtype, copy\u001b[38;5;241m=\u001b[39mcopy)\n\u001b[1;32m    186\u001b[0m \u001b[38;5;28;01melse\u001b[39;00m:\n\u001b[0;32m--> 187\u001b[0m     values \u001b[38;5;241m=\u001b[39m _astype_nansafe(values, dtype, copy\u001b[38;5;241m=\u001b[39mcopy)\n\u001b[1;32m    189\u001b[0m \u001b[38;5;66;03m# in pandas we don't store numpy str dtypes, so convert to object\u001b[39;00m\n\u001b[1;32m    190\u001b[0m \u001b[38;5;28;01mif\u001b[39;00m \u001b[38;5;28misinstance\u001b[39m(dtype, np\u001b[38;5;241m.\u001b[39mdtype) \u001b[38;5;129;01mand\u001b[39;00m \u001b[38;5;28missubclass\u001b[39m(values\u001b[38;5;241m.\u001b[39mdtype\u001b[38;5;241m.\u001b[39mtype, \u001b[38;5;28mstr\u001b[39m):\n",
      "File \u001b[0;32m~/anaconda3/lib/python3.11/site-packages/pandas/core/dtypes/astype.py:138\u001b[0m, in \u001b[0;36m_astype_nansafe\u001b[0;34m(arr, dtype, copy, skipna)\u001b[0m\n\u001b[1;32m    134\u001b[0m     \u001b[38;5;28;01mraise\u001b[39;00m \u001b[38;5;167;01mValueError\u001b[39;00m(msg)\n\u001b[1;32m    136\u001b[0m \u001b[38;5;28;01mif\u001b[39;00m copy \u001b[38;5;129;01mor\u001b[39;00m is_object_dtype(arr\u001b[38;5;241m.\u001b[39mdtype) \u001b[38;5;129;01mor\u001b[39;00m is_object_dtype(dtype):\n\u001b[1;32m    137\u001b[0m     \u001b[38;5;66;03m# Explicit copy, or required since NumPy can't view from / to object.\u001b[39;00m\n\u001b[0;32m--> 138\u001b[0m     \u001b[38;5;28;01mreturn\u001b[39;00m arr\u001b[38;5;241m.\u001b[39mastype(dtype, copy\u001b[38;5;241m=\u001b[39m\u001b[38;5;28;01mTrue\u001b[39;00m)\n\u001b[1;32m    140\u001b[0m \u001b[38;5;28;01mreturn\u001b[39;00m arr\u001b[38;5;241m.\u001b[39mastype(dtype, copy\u001b[38;5;241m=\u001b[39mcopy)\n",
      "\u001b[0;31mValueError\u001b[0m: could not convert string to float: '3117#'"
     ]
    }
   ],
   "source": [
    "# convert fields to suitable data types\n",
    "filtered_df['Mark in Seconds']  = filtered_df['Mark in Seconds'].astype(float)\n",
    "\n"
   ]
  },
  {
   "cell_type": "code",
   "execution_count": 75,
   "metadata": {},
   "outputs": [],
   "source": [
    "#subsetting: only extract 400m event\n",
    "df_400m = filtered_df[filtered_df['Event Name'] == '400']"
   ]
  },
  {
   "cell_type": "code",
   "execution_count": 76,
   "metadata": {},
   "outputs": [
    {
     "ename": "TypeError",
     "evalue": "no numeric data to plot",
     "output_type": "error",
     "traceback": [
      "\u001b[0;31m---------------------------------------------------------------------------\u001b[0m",
      "\u001b[0;31mTypeError\u001b[0m                                 Traceback (most recent call last)",
      "Cell \u001b[0;32mIn[76], line 5\u001b[0m\n\u001b[1;32m      2\u001b[0m \u001b[38;5;28;01mimport\u001b[39;00m \u001b[38;5;21;01mmatplotlib\u001b[39;00m\u001b[38;5;21;01m.\u001b[39;00m\u001b[38;5;21;01mpyplot\u001b[39;00m \u001b[38;5;28;01mas\u001b[39;00m \u001b[38;5;21;01mplt\u001b[39;00m\n\u001b[1;32m      3\u001b[0m \u001b[38;5;28;01mimport\u001b[39;00m \u001b[38;5;21;01mseaborn\u001b[39;00m \u001b[38;5;28;01mas\u001b[39;00m \u001b[38;5;21;01msns\u001b[39;00m\n\u001b[0;32m----> 5\u001b[0m df_400m\u001b[38;5;241m.\u001b[39mplot\u001b[38;5;241m.\u001b[39mbar(x\u001b[38;5;241m=\u001b[39m\u001b[38;5;124m'\u001b[39m\u001b[38;5;124mGender\u001b[39m\u001b[38;5;124m'\u001b[39m, y\u001b[38;5;241m=\u001b[39m\u001b[38;5;124m'\u001b[39m\u001b[38;5;124mMark in Seconds\u001b[39m\u001b[38;5;124m'\u001b[39m)\n",
      "File \u001b[0;32m~/anaconda3/lib/python3.11/site-packages/pandas/plotting/_core.py:1136\u001b[0m, in \u001b[0;36mPlotAccessor.bar\u001b[0;34m(self, x, y, **kwargs)\u001b[0m\n\u001b[1;32m   1046\u001b[0m \u001b[38;5;129m@Appender\u001b[39m(\n\u001b[1;32m   1047\u001b[0m \u001b[38;5;250m    \u001b[39m\u001b[38;5;124;03m\"\"\"\u001b[39;00m\n\u001b[1;32m   1048\u001b[0m \u001b[38;5;124;03m    See Also\u001b[39;00m\n\u001b[0;32m   (...)\u001b[0m\n\u001b[1;32m   1125\u001b[0m     \u001b[38;5;28mself\u001b[39m, x\u001b[38;5;241m=\u001b[39m\u001b[38;5;28;01mNone\u001b[39;00m, y\u001b[38;5;241m=\u001b[39m\u001b[38;5;28;01mNone\u001b[39;00m, \u001b[38;5;241m*\u001b[39m\u001b[38;5;241m*\u001b[39mkwargs\n\u001b[1;32m   1126\u001b[0m ) \u001b[38;5;241m-\u001b[39m\u001b[38;5;241m>\u001b[39m PlotAccessor:\n\u001b[1;32m   1127\u001b[0m \u001b[38;5;250m    \u001b[39m\u001b[38;5;124;03m\"\"\"\u001b[39;00m\n\u001b[1;32m   1128\u001b[0m \u001b[38;5;124;03m    Vertical bar plot.\u001b[39;00m\n\u001b[1;32m   1129\u001b[0m \n\u001b[0;32m   (...)\u001b[0m\n\u001b[1;32m   1134\u001b[0m \u001b[38;5;124;03m    other axis represents a measured value.\u001b[39;00m\n\u001b[1;32m   1135\u001b[0m \u001b[38;5;124;03m    \"\"\"\u001b[39;00m\n\u001b[0;32m-> 1136\u001b[0m     \u001b[38;5;28;01mreturn\u001b[39;00m \u001b[38;5;28mself\u001b[39m(kind\u001b[38;5;241m=\u001b[39m\u001b[38;5;124m\"\u001b[39m\u001b[38;5;124mbar\u001b[39m\u001b[38;5;124m\"\u001b[39m, x\u001b[38;5;241m=\u001b[39mx, y\u001b[38;5;241m=\u001b[39my, \u001b[38;5;241m*\u001b[39m\u001b[38;5;241m*\u001b[39mkwargs)\n",
      "File \u001b[0;32m~/anaconda3/lib/python3.11/site-packages/pandas/plotting/_core.py:975\u001b[0m, in \u001b[0;36mPlotAccessor.__call__\u001b[0;34m(self, *args, **kwargs)\u001b[0m\n\u001b[1;32m    972\u001b[0m             label_name \u001b[38;5;241m=\u001b[39m label_kw \u001b[38;5;129;01mor\u001b[39;00m data\u001b[38;5;241m.\u001b[39mcolumns\n\u001b[1;32m    973\u001b[0m             data\u001b[38;5;241m.\u001b[39mcolumns \u001b[38;5;241m=\u001b[39m label_name\n\u001b[0;32m--> 975\u001b[0m \u001b[38;5;28;01mreturn\u001b[39;00m plot_backend\u001b[38;5;241m.\u001b[39mplot(data, kind\u001b[38;5;241m=\u001b[39mkind, \u001b[38;5;241m*\u001b[39m\u001b[38;5;241m*\u001b[39mkwargs)\n",
      "File \u001b[0;32m~/anaconda3/lib/python3.11/site-packages/pandas/plotting/_matplotlib/__init__.py:71\u001b[0m, in \u001b[0;36mplot\u001b[0;34m(data, kind, **kwargs)\u001b[0m\n\u001b[1;32m     69\u001b[0m         kwargs[\u001b[38;5;124m\"\u001b[39m\u001b[38;5;124max\u001b[39m\u001b[38;5;124m\"\u001b[39m] \u001b[38;5;241m=\u001b[39m \u001b[38;5;28mgetattr\u001b[39m(ax, \u001b[38;5;124m\"\u001b[39m\u001b[38;5;124mleft_ax\u001b[39m\u001b[38;5;124m\"\u001b[39m, ax)\n\u001b[1;32m     70\u001b[0m plot_obj \u001b[38;5;241m=\u001b[39m PLOT_CLASSES[kind](data, \u001b[38;5;241m*\u001b[39m\u001b[38;5;241m*\u001b[39mkwargs)\n\u001b[0;32m---> 71\u001b[0m plot_obj\u001b[38;5;241m.\u001b[39mgenerate()\n\u001b[1;32m     72\u001b[0m plot_obj\u001b[38;5;241m.\u001b[39mdraw()\n\u001b[1;32m     73\u001b[0m \u001b[38;5;28;01mreturn\u001b[39;00m plot_obj\u001b[38;5;241m.\u001b[39mresult\n",
      "File \u001b[0;32m~/anaconda3/lib/python3.11/site-packages/pandas/plotting/_matplotlib/core.py:446\u001b[0m, in \u001b[0;36mMPLPlot.generate\u001b[0;34m(self)\u001b[0m\n\u001b[1;32m    444\u001b[0m \u001b[38;5;28;01mdef\u001b[39;00m \u001b[38;5;21mgenerate\u001b[39m(\u001b[38;5;28mself\u001b[39m) \u001b[38;5;241m-\u001b[39m\u001b[38;5;241m>\u001b[39m \u001b[38;5;28;01mNone\u001b[39;00m:\n\u001b[1;32m    445\u001b[0m     \u001b[38;5;28mself\u001b[39m\u001b[38;5;241m.\u001b[39m_args_adjust()\n\u001b[0;32m--> 446\u001b[0m     \u001b[38;5;28mself\u001b[39m\u001b[38;5;241m.\u001b[39m_compute_plot_data()\n\u001b[1;32m    447\u001b[0m     \u001b[38;5;28mself\u001b[39m\u001b[38;5;241m.\u001b[39m_setup_subplots()\n\u001b[1;32m    448\u001b[0m     \u001b[38;5;28mself\u001b[39m\u001b[38;5;241m.\u001b[39m_make_plot()\n",
      "File \u001b[0;32m~/anaconda3/lib/python3.11/site-packages/pandas/plotting/_matplotlib/core.py:632\u001b[0m, in \u001b[0;36mMPLPlot._compute_plot_data\u001b[0;34m(self)\u001b[0m\n\u001b[1;32m    630\u001b[0m \u001b[38;5;66;03m# no non-numeric frames or series allowed\u001b[39;00m\n\u001b[1;32m    631\u001b[0m \u001b[38;5;28;01mif\u001b[39;00m is_empty:\n\u001b[0;32m--> 632\u001b[0m     \u001b[38;5;28;01mraise\u001b[39;00m \u001b[38;5;167;01mTypeError\u001b[39;00m(\u001b[38;5;124m\"\u001b[39m\u001b[38;5;124mno numeric data to plot\u001b[39m\u001b[38;5;124m\"\u001b[39m)\n\u001b[1;32m    634\u001b[0m \u001b[38;5;28mself\u001b[39m\u001b[38;5;241m.\u001b[39mdata \u001b[38;5;241m=\u001b[39m numeric_data\u001b[38;5;241m.\u001b[39mapply(\u001b[38;5;28mself\u001b[39m\u001b[38;5;241m.\u001b[39m_convert_to_ndarray)\n",
      "\u001b[0;31mTypeError\u001b[0m: no numeric data to plot"
     ]
    }
   ],
   "source": [
    "import numpy as np\n",
    "import matplotlib.pyplot as plt\n",
    "import seaborn as sns\n",
    "\n",
    "df_400m.plot.bar(x='Gender', y='Mark in Seconds')"
   ]
  },
  {
   "cell_type": "code",
   "execution_count": 77,
   "metadata": {},
   "outputs": [
    {
     "data": {
      "text/plain": [
       "0          7.94\n",
       "1         26.16\n",
       "2         59.10\n",
       "3         99.05\n",
       "4        139.14\n",
       "          ...  \n",
       "17992    958.57\n",
       "17993      8.63\n",
       "17994     93.71\n",
       "17995    203.85\n",
       "17996    620.22\n",
       "Name: Mark in Seconds, Length: 13055, dtype: object"
      ]
     },
     "execution_count": 77,
     "metadata": {},
     "output_type": "execute_result"
    }
   ],
   "source": [
    "filtered_df['Mark in Seconds']"
   ]
  }
 ],
 "metadata": {
  "kernelspec": {
   "display_name": "base",
   "language": "python",
   "name": "python3"
  },
  "language_info": {
   "codemirror_mode": {
    "name": "ipython",
    "version": 3
   },
   "file_extension": ".py",
   "mimetype": "text/x-python",
   "name": "python",
   "nbconvert_exporter": "python",
   "pygments_lexer": "ipython3",
   "version": "3.11.5"
  }
 },
 "nbformat": 4,
 "nbformat_minor": 2
}
